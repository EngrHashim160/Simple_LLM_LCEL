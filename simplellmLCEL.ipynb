{
 "cells": [
  {
   "cell_type": "code",
   "execution_count": 14,
   "id": "cab40cda",
   "metadata": {},
   "outputs": [
    {
     "data": {
      "text/plain": [
       "True"
      ]
     },
     "execution_count": 14,
     "metadata": {},
     "output_type": "execute_result"
    }
   ],
   "source": [
    "from langchain_groq import ChatGroq\n",
    "from dotenv import load_dotenv\n",
    "import os\n",
    "from langchain_core.messages import AIMessage, HumanMessage, SystemMessage\n",
    "from langchain_core.output_parsers import StrOutputParser\n",
    "load_dotenv()"
   ]
  },
  {
   "cell_type": "code",
   "execution_count": 9,
   "id": "af97ad72",
   "metadata": {},
   "outputs": [],
   "source": [
    "messages = [\n",
    "    SystemMessage(content=\"Translate the follwoing from English to Urdu\"),\n",
    "    HumanMessage(content=\"What is the capital of France?\"),\n",
    "]"
   ]
  },
  {
   "cell_type": "code",
   "execution_count": 10,
   "id": "2ea91492",
   "metadata": {},
   "outputs": [],
   "source": [
    "# llm with llama model\n",
    "llm = ChatGroq(model=\"Gemma2-9b-It\")"
   ]
  },
  {
   "cell_type": "code",
   "execution_count": 13,
   "id": "449d2c36",
   "metadata": {},
   "outputs": [],
   "source": [
    "response = llm.invoke(messages)"
   ]
  },
  {
   "cell_type": "code",
   "execution_count": 15,
   "id": "c729c8e7",
   "metadata": {},
   "outputs": [],
   "source": [
    "parser = StrOutputParser()"
   ]
  },
  {
   "cell_type": "code",
   "execution_count": 16,
   "id": "6f674523",
   "metadata": {},
   "outputs": [
    {
     "data": {
      "text/plain": [
       "'فرانس کی راجधانی کیا ہے؟ \\n'"
      ]
     },
     "execution_count": 16,
     "metadata": {},
     "output_type": "execute_result"
    }
   ],
   "source": [
    "parser.invoke(response)\n"
   ]
  },
  {
   "cell_type": "markdown",
   "id": "d31fd93a",
   "metadata": {},
   "source": [
    "### Using LCEL - We can chain the components"
   ]
  },
  {
   "cell_type": "code",
   "execution_count": 17,
   "id": "1aa99587",
   "metadata": {},
   "outputs": [],
   "source": [
    "chain = llm | parser"
   ]
  },
  {
   "cell_type": "code",
   "execution_count": 18,
   "id": "2e464b23",
   "metadata": {},
   "outputs": [
    {
     "data": {
      "text/plain": [
       "\"فرانسیس کا دارالحکومت کیا ہے؟ \\n\\n(Faransis ka dar-ul-hukumat kya hai?) \\n\\n\\nLet me know if you have any other translations you'd like help with!\\n\""
      ]
     },
     "execution_count": 18,
     "metadata": {},
     "output_type": "execute_result"
    }
   ],
   "source": [
    "chain.invoke(messages)"
   ]
  },
  {
   "cell_type": "markdown",
   "id": "f70bdb37",
   "metadata": {},
   "source": [
    "## prompt Templates"
   ]
  },
  {
   "cell_type": "code",
   "execution_count": 19,
   "id": "0b058d80",
   "metadata": {},
   "outputs": [],
   "source": [
    "from langchain.prompts import PromptTemplate\n",
    "generic_prompt = \"Translaet the following into {language}\""
   ]
  },
  {
   "cell_type": "code",
   "execution_count": 20,
   "id": "11d8abd6",
   "metadata": {},
   "outputs": [],
   "source": [
    "prompt = PromptTemplate(\n",
    "    template=generic_prompt,\n",
    "    input_variables=[\"language\"]\n",
    ")"
   ]
  },
  {
   "cell_type": "code",
   "execution_count": 21,
   "id": "383537b9",
   "metadata": {},
   "outputs": [
    {
     "data": {
      "text/plain": [
       "'Please provide the text you would like me to translate into Urdu. 😊 \\n'"
      ]
     },
     "execution_count": 21,
     "metadata": {},
     "output_type": "execute_result"
    }
   ],
   "source": [
    "chain = prompt | llm | parser\n",
    "\n",
    "chain.invoke({\"language\": \"Urdu\"})"
   ]
  },
  {
   "cell_type": "code",
   "execution_count": null,
   "id": "84738ee7",
   "metadata": {},
   "outputs": [],
   "source": []
  }
 ],
 "metadata": {
  "kernelspec": {
   "display_name": "langchain_env",
   "language": "python",
   "name": "python3"
  },
  "language_info": {
   "codemirror_mode": {
    "name": "ipython",
    "version": 3
   },
   "file_extension": ".py",
   "mimetype": "text/x-python",
   "name": "python",
   "nbconvert_exporter": "python",
   "pygments_lexer": "ipython3",
   "version": "3.11.7"
  }
 },
 "nbformat": 4,
 "nbformat_minor": 5
}
